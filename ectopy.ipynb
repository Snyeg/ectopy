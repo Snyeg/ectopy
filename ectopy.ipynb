{
 "cells": [
  {
   "cell_type": "markdown",
   "metadata": {},
   "source": [
    "# Ectopy: Ectopic expression analysis in Python"
   ]
  },
  {
   "cell_type": "markdown",
   "metadata": {},
   "source": [
    "The code below presents a typical pipeline of `ectopy` package to calculate activation frequencies of ectopically expressed genes and to find potential prognostic biomarkers."
   ]
  },
  {
   "cell_type": "markdown",
   "metadata": {},
   "source": [
    "## Import data"
   ]
  },
  {
   "cell_type": "code",
   "execution_count": 15,
   "metadata": {},
   "outputs": [],
   "source": [
    "import pandas as pd\n",
    "data_dir = 'data/'\n",
    "data = pd.read_csv(data_dir + 'data.csv', sep=';', index_col='id_sample')\n",
    "expgroup = pd.read_csv(data_dir + 'expgroup.csv', sep=';', index_col='id_sample')"
   ]
  },
  {
   "cell_type": "markdown",
   "metadata": {},
   "source": [
    "Display data."
   ]
  },
  {
   "cell_type": "code",
   "execution_count": 12,
   "metadata": {},
   "outputs": [
    {
     "name": "stdout",
     "output_type": "stream",
     "text": [
      "Data (1144, 3)\n"
     ]
    },
    {
     "data": {
      "text/html": [
       "<div>\n",
       "<style scoped>\n",
       "    .dataframe tbody tr th:only-of-type {\n",
       "        vertical-align: middle;\n",
       "    }\n",
       "\n",
       "    .dataframe tbody tr th {\n",
       "        vertical-align: top;\n",
       "    }\n",
       "\n",
       "    .dataframe thead th {\n",
       "        text-align: right;\n",
       "    }\n",
       "</style>\n",
       "<table border=\"1\" class=\"dataframe\">\n",
       "  <thead>\n",
       "    <tr style=\"text-align: right;\">\n",
       "      <th></th>\n",
       "      <th>DNMT3B</th>\n",
       "      <th>EXO1</th>\n",
       "      <th>MCM10</th>\n",
       "    </tr>\n",
       "    <tr>\n",
       "      <th>id_sample</th>\n",
       "      <th></th>\n",
       "      <th></th>\n",
       "      <th></th>\n",
       "    </tr>\n",
       "  </thead>\n",
       "  <tbody>\n",
       "    <tr>\n",
       "      <th>TCGA-3C-AAAU-01A</th>\n",
       "      <td>2.293107</td>\n",
       "      <td>1.851411</td>\n",
       "      <td>1.472214</td>\n",
       "    </tr>\n",
       "    <tr>\n",
       "      <th>TCGA-3C-AALI-01A</th>\n",
       "      <td>2.213523</td>\n",
       "      <td>2.893140</td>\n",
       "      <td>2.099413</td>\n",
       "    </tr>\n",
       "    <tr>\n",
       "      <th>TCGA-3C-AALJ-01A</th>\n",
       "      <td>3.160032</td>\n",
       "      <td>1.735396</td>\n",
       "      <td>1.655712</td>\n",
       "    </tr>\n",
       "  </tbody>\n",
       "</table>\n",
       "</div>"
      ],
      "text/plain": [
       "                    DNMT3B      EXO1     MCM10\n",
       "id_sample                                     \n",
       "TCGA-3C-AAAU-01A  2.293107  1.851411  1.472214\n",
       "TCGA-3C-AALI-01A  2.213523  2.893140  2.099413\n",
       "TCGA-3C-AALJ-01A  3.160032  1.735396  1.655712"
      ]
     },
     "execution_count": 12,
     "metadata": {},
     "output_type": "execute_result"
    }
   ],
   "source": [
    "print('Data', data.shape)\n",
    "data.head(3)"
   ]
  },
  {
   "cell_type": "markdown",
   "metadata": {},
   "source": [
    "Display a list of available genes."
   ]
  },
  {
   "cell_type": "code",
   "execution_count": 16,
   "metadata": {},
   "outputs": [
    {
     "name": "stdout",
     "output_type": "stream",
     "text": [
      "Available genes ['DNMT3B', 'EXO1', 'MCM10']\n"
     ]
    }
   ],
   "source": [
    "genes = list(data.columns)\n",
    "print('Available genes', genes)"
   ]
  },
  {
   "cell_type": "markdown",
   "metadata": {},
   "source": [
    "Display expgroup with tissue status (column `group`) and survival data (columns `time` and `event`)."
   ]
  },
  {
   "cell_type": "code",
   "execution_count": 14,
   "metadata": {},
   "outputs": [
    {
     "name": "stdout",
     "output_type": "stream",
     "text": [
      "Expgroup (1144, 3)\n"
     ]
    },
    {
     "data": {
      "text/html": [
       "<div>\n",
       "<style scoped>\n",
       "    .dataframe tbody tr th:only-of-type {\n",
       "        vertical-align: middle;\n",
       "    }\n",
       "\n",
       "    .dataframe tbody tr th {\n",
       "        vertical-align: top;\n",
       "    }\n",
       "\n",
       "    .dataframe thead th {\n",
       "        text-align: right;\n",
       "    }\n",
       "</style>\n",
       "<table border=\"1\" class=\"dataframe\">\n",
       "  <thead>\n",
       "    <tr style=\"text-align: right;\">\n",
       "      <th></th>\n",
       "      <th>group</th>\n",
       "      <th>time</th>\n",
       "      <th>event</th>\n",
       "    </tr>\n",
       "    <tr>\n",
       "      <th>id_sample</th>\n",
       "      <th></th>\n",
       "      <th></th>\n",
       "      <th></th>\n",
       "    </tr>\n",
       "  </thead>\n",
       "  <tbody>\n",
       "    <tr>\n",
       "      <th>TCGA-3C-AAAU-01A</th>\n",
       "      <td>tumoral</td>\n",
       "      <td>134.90</td>\n",
       "      <td>0.0</td>\n",
       "    </tr>\n",
       "    <tr>\n",
       "      <th>TCGA-3C-AALI-01A</th>\n",
       "      <td>tumoral</td>\n",
       "      <td>133.50</td>\n",
       "      <td>0.0</td>\n",
       "    </tr>\n",
       "    <tr>\n",
       "      <th>TCGA-3C-AALJ-01A</th>\n",
       "      <td>tumoral</td>\n",
       "      <td>49.13</td>\n",
       "      <td>0.0</td>\n",
       "    </tr>\n",
       "  </tbody>\n",
       "</table>\n",
       "</div>"
      ],
      "text/plain": [
       "                    group    time  event\n",
       "id_sample                               \n",
       "TCGA-3C-AAAU-01A  tumoral  134.90    0.0\n",
       "TCGA-3C-AALI-01A  tumoral  133.50    0.0\n",
       "TCGA-3C-AALJ-01A  tumoral   49.13    0.0"
      ]
     },
     "execution_count": 14,
     "metadata": {},
     "output_type": "execute_result"
    }
   ],
   "source": [
    "print('Expgroup', expgroup.shape)\n",
    "expgroup.head(3)"
   ]
  },
  {
   "cell_type": "markdown",
   "metadata": {},
   "source": [
    "## Create normal and tumoral datasets"
   ]
  },
  {
   "cell_type": "code",
   "execution_count": 5,
   "metadata": {},
   "outputs": [],
   "source": [
    "expgroup_normal = expgroup[expgroup['group']=='normal']\n",
    "expgroup_tumoral = expgroup[expgroup['group']=='tumoral']\n",
    "normal = data.loc[expgroup_normal.index, :]\n",
    "tumoral = data.loc[expgroup_tumoral.index, :]"
   ]
  },
  {
   "cell_type": "code",
   "execution_count": 20,
   "metadata": {},
   "outputs": [
    {
     "name": "stdout",
     "output_type": "stream",
     "text": [
      "Tumoral: data (1047, 3) expgroup (1047, 3)\n",
      "Normal: data (97, 3) expgroup (97, 3)\n"
     ]
    }
   ],
   "source": [
    "print('Tumoral:', 'data', tumoral.shape, 'expgroup', expgroup_tumoral.shape)\n",
    "print('Normal:', 'data', normal.shape, 'expgroup', expgroup_normal.shape)"
   ]
  },
  {
   "cell_type": "markdown",
   "metadata": {},
   "source": [
    "## Calculate m2sd threshold"
   ]
  },
  {
   "cell_type": "code",
   "execution_count": 18,
   "metadata": {},
   "outputs": [
    {
     "name": "stdout",
     "output_type": "stream",
     "text": [
      "Threshold m2sd\n",
      "DNMT3B    1.396983\n",
      "EXO1      1.089280\n",
      "MCM10     0.898020\n",
      "dtype: float64\n"
     ]
    }
   ],
   "source": [
    "from analysis import threshold\n",
    "m2sd_threshold = threshold.StdDecorator(threshold.MeanTreshold(normal), nb_std=2).calculate_threshold()\n",
    "print('Threshold m2sd')\n",
    "print(m2sd_threshold)"
   ]
  },
  {
   "cell_type": "markdown",
   "metadata": {},
   "source": [
    "## Calculate frequencies of expression above a threshold"
   ]
  },
  {
   "cell_type": "code",
   "execution_count": 9,
   "metadata": {},
   "outputs": [
    {
     "name": "stdout",
     "output_type": "stream",
     "text": [
      "Activation frequency obtained with m2sd threshold in percentage\n",
      "DNMT3B    45.367717\n",
      "EXO1      81.088825\n",
      "MCM10     73.925501\n",
      "dtype: float64\n"
     ]
    }
   ],
   "source": [
    "from analysis import expression_analysis\n",
    "frequency = expression_analysis.ExpressionFrequency().calculate_expression_frequency(tumoral, m2sd_threshold)\n",
    "print('Activation frequency obtained with m2sd threshold in percentage')\n",
    "print(frequency.head())"
   ]
  },
  {
   "cell_type": "markdown",
   "metadata": {},
   "source": [
    "## Calculate adaptive threshold"
   ]
  },
  {
   "cell_type": "code",
   "execution_count": null,
   "metadata": {},
   "outputs": [],
   "source": []
  }
 ],
 "metadata": {
  "kernelspec": {
   "display_name": "Python 3",
   "language": "python",
   "name": "python3"
  },
  "language_info": {
   "codemirror_mode": {
    "name": "ipython",
    "version": 3
   },
   "file_extension": ".py",
   "mimetype": "text/x-python",
   "name": "python",
   "nbconvert_exporter": "python",
   "pygments_lexer": "ipython3",
   "version": "3.8.7"
  }
 },
 "nbformat": 4,
 "nbformat_minor": 4
}
