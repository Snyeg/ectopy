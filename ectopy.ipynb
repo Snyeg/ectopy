{
 "cells": [
  {
   "cell_type": "markdown",
   "metadata": {},
   "source": [
    "# Ectopy: Ectopic expression analysis in Python"
   ]
  },
  {
   "cell_type": "markdown",
   "metadata": {},
   "source": [
    "The code below presents a typical pipeline of `ectopy` package to calculate activation frequencies of ectopically expressed genes and to find potential prognostic biomarkers."
   ]
  },
  {
   "cell_type": "markdown",
   "metadata": {},
   "source": [
    "## Import data"
   ]
  },
  {
   "cell_type": "code",
   "execution_count": 5,
   "metadata": {},
   "outputs": [],
   "source": [
    "import pandas as pd\n",
    "data_dir = 'data/'\n",
    "data = pd.read_csv(data_dir + 'data.csv', sep=';', index_col='id_sample')\n",
    "expgroup = pd.read_csv(data_dir + 'expgroup.csv', sep=';', index_col='id_sample')"
   ]
  },
  {
   "cell_type": "markdown",
   "metadata": {},
   "source": [
    "Display data."
   ]
  },
  {
   "cell_type": "code",
   "execution_count": 6,
   "metadata": {},
   "outputs": [
    {
     "name": "stdout",
     "output_type": "stream",
     "text": [
      "Data (1144, 3)\n"
     ]
    },
    {
     "data": {
      "text/html": [
       "<div>\n",
       "<style scoped>\n",
       "    .dataframe tbody tr th:only-of-type {\n",
       "        vertical-align: middle;\n",
       "    }\n",
       "\n",
       "    .dataframe tbody tr th {\n",
       "        vertical-align: top;\n",
       "    }\n",
       "\n",
       "    .dataframe thead th {\n",
       "        text-align: right;\n",
       "    }\n",
       "</style>\n",
       "<table border=\"1\" class=\"dataframe\">\n",
       "  <thead>\n",
       "    <tr style=\"text-align: right;\">\n",
       "      <th></th>\n",
       "      <th>DNMT3B</th>\n",
       "      <th>EXO1</th>\n",
       "      <th>MCM10</th>\n",
       "    </tr>\n",
       "    <tr>\n",
       "      <th>id_sample</th>\n",
       "      <th></th>\n",
       "      <th></th>\n",
       "      <th></th>\n",
       "    </tr>\n",
       "  </thead>\n",
       "  <tbody>\n",
       "    <tr>\n",
       "      <th>TCGA-3C-AAAU-01A</th>\n",
       "      <td>2.293107</td>\n",
       "      <td>1.851411</td>\n",
       "      <td>1.472214</td>\n",
       "    </tr>\n",
       "    <tr>\n",
       "      <th>TCGA-3C-AALI-01A</th>\n",
       "      <td>2.213523</td>\n",
       "      <td>2.893140</td>\n",
       "      <td>2.099413</td>\n",
       "    </tr>\n",
       "    <tr>\n",
       "      <th>TCGA-3C-AALJ-01A</th>\n",
       "      <td>3.160032</td>\n",
       "      <td>1.735396</td>\n",
       "      <td>1.655712</td>\n",
       "    </tr>\n",
       "  </tbody>\n",
       "</table>\n",
       "</div>"
      ],
      "text/plain": [
       "                    DNMT3B      EXO1     MCM10\n",
       "id_sample                                     \n",
       "TCGA-3C-AAAU-01A  2.293107  1.851411  1.472214\n",
       "TCGA-3C-AALI-01A  2.213523  2.893140  2.099413\n",
       "TCGA-3C-AALJ-01A  3.160032  1.735396  1.655712"
      ]
     },
     "execution_count": 6,
     "metadata": {},
     "output_type": "execute_result"
    }
   ],
   "source": [
    "print('Data', data.shape)\n",
    "data.head(3)"
   ]
  },
  {
   "cell_type": "markdown",
   "metadata": {},
   "source": [
    "Display a list of available genes."
   ]
  },
  {
   "cell_type": "code",
   "execution_count": 7,
   "metadata": {},
   "outputs": [
    {
     "name": "stdout",
     "output_type": "stream",
     "text": [
      "Available genes ['DNMT3B', 'EXO1', 'MCM10']\n"
     ]
    }
   ],
   "source": [
    "genes = list(data.columns)\n",
    "print('Available genes', genes)"
   ]
  },
  {
   "cell_type": "markdown",
   "metadata": {},
   "source": [
    "Display expgroup with tissue status (column `group`) and survival data (columns `time` and `event`)."
   ]
  },
  {
   "cell_type": "code",
   "execution_count": 8,
   "metadata": {},
   "outputs": [
    {
     "name": "stdout",
     "output_type": "stream",
     "text": [
      "Expgroup (1144, 3)\n"
     ]
    },
    {
     "data": {
      "text/html": [
       "<div>\n",
       "<style scoped>\n",
       "    .dataframe tbody tr th:only-of-type {\n",
       "        vertical-align: middle;\n",
       "    }\n",
       "\n",
       "    .dataframe tbody tr th {\n",
       "        vertical-align: top;\n",
       "    }\n",
       "\n",
       "    .dataframe thead th {\n",
       "        text-align: right;\n",
       "    }\n",
       "</style>\n",
       "<table border=\"1\" class=\"dataframe\">\n",
       "  <thead>\n",
       "    <tr style=\"text-align: right;\">\n",
       "      <th></th>\n",
       "      <th>group</th>\n",
       "      <th>time</th>\n",
       "      <th>event</th>\n",
       "    </tr>\n",
       "    <tr>\n",
       "      <th>id_sample</th>\n",
       "      <th></th>\n",
       "      <th></th>\n",
       "      <th></th>\n",
       "    </tr>\n",
       "  </thead>\n",
       "  <tbody>\n",
       "    <tr>\n",
       "      <th>TCGA-3C-AAAU-01A</th>\n",
       "      <td>tumoral</td>\n",
       "      <td>134.90</td>\n",
       "      <td>0.0</td>\n",
       "    </tr>\n",
       "    <tr>\n",
       "      <th>TCGA-3C-AALI-01A</th>\n",
       "      <td>tumoral</td>\n",
       "      <td>133.50</td>\n",
       "      <td>0.0</td>\n",
       "    </tr>\n",
       "    <tr>\n",
       "      <th>TCGA-3C-AALJ-01A</th>\n",
       "      <td>tumoral</td>\n",
       "      <td>49.13</td>\n",
       "      <td>0.0</td>\n",
       "    </tr>\n",
       "  </tbody>\n",
       "</table>\n",
       "</div>"
      ],
      "text/plain": [
       "                    group    time  event\n",
       "id_sample                               \n",
       "TCGA-3C-AAAU-01A  tumoral  134.90    0.0\n",
       "TCGA-3C-AALI-01A  tumoral  133.50    0.0\n",
       "TCGA-3C-AALJ-01A  tumoral   49.13    0.0"
      ]
     },
     "execution_count": 8,
     "metadata": {},
     "output_type": "execute_result"
    }
   ],
   "source": [
    "print('Expgroup', expgroup.shape)\n",
    "expgroup.head(3)"
   ]
  },
  {
   "cell_type": "markdown",
   "metadata": {},
   "source": [
    "## Create normal and tumoral datasets"
   ]
  },
  {
   "cell_type": "code",
   "execution_count": 9,
   "metadata": {},
   "outputs": [],
   "source": [
    "expgroup_normal = expgroup[expgroup['group']=='normal']\n",
    "expgroup_tumoral = expgroup[expgroup['group']=='tumoral']\n",
    "normal = data.loc[expgroup_normal.index, :]\n",
    "tumoral = data.loc[expgroup_tumoral.index, :]"
   ]
  },
  {
   "cell_type": "code",
   "execution_count": 10,
   "metadata": {},
   "outputs": [
    {
     "name": "stdout",
     "output_type": "stream",
     "text": [
      "Tumoral: data (1047, 3) expgroup (1047, 3)\n",
      "Normal: data (97, 3) expgroup (97, 3)\n"
     ]
    }
   ],
   "source": [
    "print('Tumoral:', 'data', tumoral.shape, 'expgroup', expgroup_tumoral.shape)\n",
    "print('Normal:', 'data', normal.shape, 'expgroup', expgroup_normal.shape)"
   ]
  },
  {
   "cell_type": "markdown",
   "metadata": {},
   "source": [
    "## Calculate m2sd threshold"
   ]
  },
  {
   "cell_type": "code",
   "execution_count": 11,
   "metadata": {},
   "outputs": [
    {
     "name": "stdout",
     "output_type": "stream",
     "text": [
      "Threshold m2sd\n",
      "DNMT3B    1.396983\n",
      "EXO1      1.089280\n",
      "MCM10     0.898020\n",
      "dtype: float64\n"
     ]
    }
   ],
   "source": [
    "from analysis import threshold\n",
    "m2sd_threshold = threshold.StdDecorator(threshold.MeanTreshold(normal), nb_std=2).calculate_threshold()\n",
    "print('Threshold m2sd')\n",
    "print(m2sd_threshold)"
   ]
  },
  {
   "cell_type": "markdown",
   "metadata": {},
   "source": [
    "## Calculate frequencies of expression above a threshold"
   ]
  },
  {
   "cell_type": "code",
   "execution_count": 12,
   "metadata": {},
   "outputs": [
    {
     "name": "stdout",
     "output_type": "stream",
     "text": [
      "Activation frequency obtained with m2sd threshold in percentage\n",
      "DNMT3B    45.367717\n",
      "EXO1      81.088825\n",
      "MCM10     73.925501\n",
      "dtype: float64\n"
     ]
    }
   ],
   "source": [
    "from analysis import expression_analysis\n",
    "frequency = expression_analysis.ExpressionFrequency().calculate_expression_frequency(tumoral, m2sd_threshold)\n",
    "print('Activation frequency obtained with m2sd threshold in percentage')\n",
    "print(frequency.head())"
   ]
  },
  {
   "cell_type": "markdown",
   "metadata": {},
   "source": [
    "## Calculate adaptive threshold"
   ]
  },
  {
   "cell_type": "code",
   "execution_count": 13,
   "metadata": {},
   "outputs": [],
   "source": [
    "from analysis import threshold"
   ]
  },
  {
   "cell_type": "code",
   "execution_count": 16,
   "metadata": {},
   "outputs": [],
   "source": [
    "max_normal = threshold.MaxTreshold(normal).calculate_threshold()"
   ]
  },
  {
   "cell_type": "code",
   "execution_count": 17,
   "metadata": {},
   "outputs": [],
   "source": [
    "options = {\n",
    "    'percentile': 15.0,\n",
    "    'step_percentile': 1.0,\n",
    "    'min_nb_samples': 20,\n",
    "    'noise_level': 0.3,\n",
    "    'min_reference_threshold': max_normal,\n",
    "    'nb_folds': 4,\n",
    "    'nb_cross_validations': 1\n",
    "    }\n"
   ]
  },
  {
   "cell_type": "code",
   "execution_count": 20,
   "metadata": {},
   "outputs": [
    {
     "name": "stdout",
     "output_type": "stream",
     "text": [
      "Processing feature DNMT3B\n",
      "Optimal threshold for DNMT3B\n",
      "     threshold  threshold_percentile   p_value  hazard_ratio  validated  \\\n",
      "T11   1.787853             72.464183  0.003263      1.557107       True   \n",
      "\n",
      "     cv_score  optimal  \n",
      "T11      25.0     True  \n",
      "Processing feature EXO1\n",
      "Optimal threshold for EXO1\n",
      "     threshold  threshold_percentile   p_value  hazard_ratio  validated  \\\n",
      "T15   2.188157             60.704871  0.009725      1.459836       True   \n",
      "\n",
      "     cv_score  optimal  \n",
      "T15      25.0     True  \n",
      "Processing feature MCM10\n",
      "Optimal threshold for MCM10\n",
      "    threshold  threshold_percentile   p_value  hazard_ratio  validated  \\\n",
      "T5   1.655761             57.486151  0.003297      1.537064       True   \n",
      "\n",
      "    cv_score  optimal  \n",
      "T5      25.0     True  \n",
      "[1.7878532762177646, 2.188157291575931, 1.6557611272970392]\n"
     ]
    }
   ],
   "source": [
    "adaptive_threshold = threshold.AdaptiveThreshold(data=tumoral, survival_data=expgroup_tumoral, duration_col='time', event_col='event', **options)\n",
    "adaptive = adaptive_threshold.calculate_threshold()\n",
    "print(list(adaptive))"
   ]
  },
  {
   "cell_type": "code",
   "execution_count": 21,
   "metadata": {},
   "outputs": [
    {
     "name": "stdout",
     "output_type": "stream",
     "text": [
      "     threshold  threshold_percentile   p_value  hazard_ratio  validated  \\\n",
      "T1    1.813697             46.704871  0.025297      1.396049       True   \n",
      "T2    1.846114             47.704871  0.014063      1.442413       True   \n",
      "T3    1.860113             48.704871  0.006309      1.501328       True   \n",
      "T4    1.899769             49.704871  0.011484      1.452290       True   \n",
      "T5    1.921833             50.704871  0.008367      1.474996       True   \n",
      "T6    1.945113             51.704871  0.007588      1.481416       True   \n",
      "T7    1.964816             52.704871  0.002709      1.554961       True   \n",
      "T8    2.003815             53.704871  0.003130      1.542375       True   \n",
      "T9    2.024925             54.704871  0.003049      1.543227       True   \n",
      "T10   2.053258             55.704871  0.002321      1.561623       True   \n",
      "T11   2.075781             56.704871  0.001055      1.614978       True   \n",
      "T12   2.110568             57.704871  0.002459      1.556553       True   \n",
      "T13   2.126367             58.704871  0.003706      1.527854       True   \n",
      "T14   2.153757             59.704871  0.015316      1.425551       True   \n",
      "T15   2.188157             60.704871  0.009725      1.459836       True   \n",
      "\n",
      "     cv_score  optimal  \n",
      "T1        0.0    False  \n",
      "T2        0.0    False  \n",
      "T3        0.0    False  \n",
      "T4        0.0    False  \n",
      "T5       25.0    False  \n",
      "T6        0.0    False  \n",
      "T7       25.0    False  \n",
      "T8       25.0    False  \n",
      "T9       25.0    False  \n",
      "T10      25.0    False  \n",
      "T11      25.0    False  \n",
      "T12      25.0    False  \n",
      "T13       0.0    False  \n",
      "T14       0.0    False  \n",
      "T15      25.0     True  \n"
     ]
    }
   ],
   "source": [
    "print(adaptive_threshold.get_details('EXO1').head(15))"
   ]
  },
  {
   "cell_type": "code",
   "execution_count": null,
   "metadata": {},
   "outputs": [],
   "source": []
  }
 ],
 "metadata": {
  "kernelspec": {
   "display_name": "Python 3",
   "language": "python",
   "name": "python3"
  },
  "language_info": {
   "codemirror_mode": {
    "name": "ipython",
    "version": 3
   },
   "file_extension": ".py",
   "mimetype": "text/x-python",
   "name": "python",
   "nbconvert_exporter": "python",
   "pygments_lexer": "ipython3",
   "version": "3.7.6"
  }
 },
 "nbformat": 4,
 "nbformat_minor": 4
}
